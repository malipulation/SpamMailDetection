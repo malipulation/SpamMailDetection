{
 "cells": [
  {
   "cell_type": "code",
   "execution_count": null,
   "metadata": {},
   "outputs": [],
   "source": [
    "!pip install pandas\n",
    "!pip install numpy\n",
    "!pip install matplotlib\n",
    "!pip install tensorflow\n",
    "\n",
    "!pip install keras\n"
   ]
  },
  {
   "cell_type": "code",
   "execution_count": null,
   "metadata": {},
   "outputs": [],
   "source": [
    "import pandas as pd \n",
    "import numpy as np \n",
    "import matplotlib.pyplot as plt \n",
    "import tensorflow as tf \n",
    "\n",
    "from keras.preprocessing.text import Tokenizer \n",
    "from keras_preprocessing.sequence import pad_sequences\n"
   ]
  },
  {
   "cell_type": "code",
   "execution_count": null,
   "metadata": {},
   "outputs": [],
   "source": [
    "####Hyperparameters####\n",
    "VOCAB_SIZE = 30000\n",
    "EMBEDDING_DIM = 16\n",
    "EPOCHS = 15\n",
    "MAX_LEN = 32\n",
    "TRUNC_TYPE = 'post'\n",
    "PADD_TYPE = 'post'\n",
    "UNK_TOK = '<UNK>'\n",
    "TRAINING_SIZE = 1000\n",
    "\n",
    "print('\\nHyperparameters Done\\n')"
   ]
  },
  {
   "cell_type": "code",
   "execution_count": null,
   "metadata": {},
   "outputs": [],
   "source": [
    "dataset = pd.read_csv('dataset/Spam_dataset.csv')\n",
    "print('dataset: ')\n",
    "\n",
    "print(dataset.head(), '\\n')\n",
    "print('Null values in the dataset: ')\n",
    "\n",
    "print(dataset.isnull(), '\\n')\n",
    "print('Sum of Null values in each column: ')\n",
    "\n",
    "print(dataset.isnull().sum(), '\\n')\n",
    "\n",
    "dataset[\"Category\"] = [1 if each == \"spam\" else 0 for each in dataset[\"Category\"]]\n",
    "\n",
    "print('dataset: ')\n",
    "print(dataset.head(), '\\n')"
   ]
  },
  {
   "cell_type": "code",
   "execution_count": null,
   "metadata": {},
   "outputs": [],
   "source": [
    "X = dataset.iloc[:, 1].values\n",
    "X = X.reshape(-1, 1)\n",
    "print('Type of X:', type(X))\n",
    "print('shape of X: ', X.shape)\n",
    "#print(X)\n",
    "\n",
    "Y = dataset.iloc[:, 0].values\n",
    "y = Y.reshape(-1, 1)\n",
    "print('Type of Y; ', type(Y))\n",
    "print('shape of Y: ', y.shape)\n",
    "#print(y)\n",
    "X = X.tolist()\n",
    "y = y.tolist()\n",
    "print('Length of X: ', len(X), '\\n')"
   ]
  },
  {
   "cell_type": "code",
   "execution_count": null,
   "metadata": {},
   "outputs": [],
   "source": [
    "####Train test Split####\n",
    "Training_Sentences = X[TRAINING_SIZE:]\n",
    "Training_Labels = y[TRAINING_SIZE:]\n",
    "print('Length of training samples ', len(Training_Sentences), '\\n')\n",
    "\n",
    "Testing_Sentences = X[0: TRAINING_SIZE]\n",
    "Testing_Lables = y[0:TRAINING_SIZE]\n",
    "print('Length of testing samples', len(Testing_Sentences), '\\n')"
   ]
  },
  {
   "cell_type": "code",
   "execution_count": null,
   "metadata": {},
   "outputs": [],
   "source": [
    "####TOKENIZING THE WORDS#####\n",
    "tokenizer = Tokenizer(num_words=VOCAB_SIZE, oov_token=UNK_TOK)\n",
    "tokenizer.fit_on_texts(Training_Sentences)\n",
    "\n",
    "word_index = tokenizer.word_index\n",
    "\n",
    "#print(word_index, '\\n \\n \\n')\n",
    "\n",
    "Training_Sequences = tokenizer.texts_to_sequences(Training_Sentences)\n",
    "Training_pad = pad_sequences(Training_Sequences, maxlen=MAX_LEN, padding=PADD_TYPE, truncating=TRUNC_TYPE)\n",
    "\n",
    "Testing_Sequences = tokenizer.texts_to_sequences(Testing_Sentences)\n",
    "Testing_pad = pad_sequences(Testing_Sequences, maxlen=MAX_LEN, padding=PADD_TYPE, truncating=TRUNC_TYPE)"
   ]
  },
  {
   "cell_type": "code",
   "execution_count": null,
   "metadata": {},
   "outputs": [],
   "source": [
    "#####BUILDING THE MODEL############\n",
    "\n",
    "model = tf.keras.Sequential()\n",
    "print('#####MODEL INSTANCE Done#####')\n",
    "model.add(tf.keras.layers.Embedding(VOCAB_SIZE, EMBEDDING_DIM, input_length=MAX_LEN))\n",
    "model.add(tf.keras.layers.Bidirectional(tf.keras.layers.LSTM(64, return_sequences=True)))\n",
    "model.add(tf.keras.layers.Bidirectional(tf.keras.layers.LSTM(64)))\n",
    "model.add(tf.keras.layers.Flatten())\n",
    "model.add(tf.keras.layers.Dense(24, activation='relu'))\n",
    "model.add(tf.keras.layers.Dense(1, activation='sigmoid'))\n",
    "\n",
    "print('#########################')\n",
    "print(model.summary())\n",
    "print('#########################')"
   ]
  },
  {
   "cell_type": "code",
   "execution_count": null,
   "metadata": {},
   "outputs": [],
   "source": [
    "########Converting to numpy array##########\n",
    "Training_Sequences_padded = np.asarray(Training_pad)\n",
    "Testing_Sequences_padded = np.asarray(Testing_pad)\n",
    "Training_Labels = np.asarray(Training_Labels)\n",
    "Testing_Lables = np.asarray(Testing_Lables)"
   ]
  },
  {
   "cell_type": "code",
   "execution_count": null,
   "metadata": {},
   "outputs": [],
   "source": [
    "######Training THE MODEL###################\n",
    "model.compile(optimizer='adam', loss='binary_crossentropy', metrics=['accuracy'])\n",
    "history = model.fit(Training_Sequences_padded, Training_Labels, validation_data=(Testing_Sequences_padded, Testing_Lables), epochs=EPOCHS)"
   ]
  },
  {
   "cell_type": "code",
   "execution_count": null,
   "metadata": {},
   "outputs": [],
   "source": [
    "def Plot(history, string):\n",
    "    plt.plot(history.history[string])\n",
    "    plt.plot(history.history['val_' + string])\n",
    "    plt.xlabel(\"EPOCHS\")\n",
    "    plt.ylabel(string)\n",
    "    plt.legend([string, 'val_' + string ])\n",
    "    plt.savefig(string + '.png')\n",
    "    plt.show()\n",
    "    \n",
    "    \n",
    "Plot(history, \"accuracy\")\n",
    "Plot(history, \"loss\")\n",
    "\n",
    "\n",
    "print(\"######DONE########\")\n"
   ]
  },
  {
   "cell_type": "code",
   "execution_count": null,
   "metadata": {},
   "outputs": [],
   "source": [
    "text = 'WINNER. You won this exciting lottery!!!'\n",
    "\n",
    "print(text)\n",
    "Test = tokenizer.texts_to_sequences([text])[0]\n",
    "Test_padded = pad_sequences([Test], maxlen=MAX_LEN, padding=PADD_TYPE, truncating=TRUNC_TYPE)\n",
    "Test_padded = np.asarray(Test_padded)\n",
    "print('Done')\n",
    "print(Test_padded.shape)\n",
    "\n",
    "ypred = model.predict(Test_padded)\n",
    "\n",
    "print('output class: ', ypred)"
   ]
  },
  {
   "cell_type": "code",
   "execution_count": null,
   "metadata": {},
   "outputs": [],
   "source": [
    "y_pred = model.predict(Testing_Sequences_padded)\n",
    "print(y_pred[0])\n"
   ]
  },
  {
   "cell_type": "code",
   "execution_count": null,
   "metadata": {},
   "outputs": [],
   "source": [
    "print(Testing_Lables.shape)"
   ]
  },
  {
   "cell_type": "code",
   "execution_count": null,
   "metadata": {},
   "outputs": [],
   "source": []
  },
  {
   "cell_type": "code",
   "execution_count": null,
   "metadata": {},
   "outputs": [],
   "source": []
  },
  {
   "cell_type": "code",
   "execution_count": null,
   "metadata": {},
   "outputs": [],
   "source": []
  }
 ],
 "metadata": {
  "kernelspec": {
   "display_name": "gpu",
   "language": "python",
   "name": "gpu"
  },
  "language_info": {
   "codemirror_mode": {
    "name": "ipython",
    "version": 3
   },
   "file_extension": ".py",
   "mimetype": "text/x-python",
   "name": "python",
   "nbconvert_exporter": "python",
   "pygments_lexer": "ipython3",
   "version": "3.8.0"
  }
 },
 "nbformat": 4,
 "nbformat_minor": 4
}
